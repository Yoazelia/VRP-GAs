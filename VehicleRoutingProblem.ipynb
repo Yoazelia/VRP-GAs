{
 "cells": [
  {
   "cell_type": "code",
   "execution_count": 35,
   "metadata": {},
   "outputs": [],
   "source": [
    "import pandas as pd\n",
    "import numpy as np\n",
    "import random"
   ]
  },
  {
   "cell_type": "code",
   "execution_count": 36,
   "metadata": {},
   "outputs": [],
   "source": [
    "# Prepare the data and depot location\n",
    "customers_df = pd.read_csv(\"customers.csv\")\n",
    "vehicles_df = pd.read_csv(\"vehicles.csv\")\n",
    "\n",
    "depot = (4.4184, 114.0932)"
   ]
  },
  {
   "cell_type": "code",
   "execution_count": 37,
   "metadata": {},
   "outputs": [
    {
     "data": {
      "text/html": [
       "<div>\n",
       "<style scoped>\n",
       "    .dataframe tbody tr th:only-of-type {\n",
       "        vertical-align: middle;\n",
       "    }\n",
       "\n",
       "    .dataframe tbody tr th {\n",
       "        vertical-align: top;\n",
       "    }\n",
       "\n",
       "    .dataframe thead th {\n",
       "        text-align: right;\n",
       "    }\n",
       "</style>\n",
       "<table border=\"1\" class=\"dataframe\">\n",
       "  <thead>\n",
       "    <tr style=\"text-align: right;\">\n",
       "      <th></th>\n",
       "      <th>customer</th>\n",
       "      <th>latitude</th>\n",
       "      <th>longitude</th>\n",
       "      <th>demand</th>\n",
       "    </tr>\n",
       "  </thead>\n",
       "  <tbody>\n",
       "    <tr>\n",
       "      <th>0</th>\n",
       "      <td>1</td>\n",
       "      <td>4.3555</td>\n",
       "      <td>113.9777</td>\n",
       "      <td>5</td>\n",
       "    </tr>\n",
       "    <tr>\n",
       "      <th>1</th>\n",
       "      <td>2</td>\n",
       "      <td>4.3976</td>\n",
       "      <td>114.0049</td>\n",
       "      <td>8</td>\n",
       "    </tr>\n",
       "    <tr>\n",
       "      <th>2</th>\n",
       "      <td>3</td>\n",
       "      <td>4.3163</td>\n",
       "      <td>114.0764</td>\n",
       "      <td>3</td>\n",
       "    </tr>\n",
       "    <tr>\n",
       "      <th>3</th>\n",
       "      <td>4</td>\n",
       "      <td>4.3184</td>\n",
       "      <td>113.9932</td>\n",
       "      <td>6</td>\n",
       "    </tr>\n",
       "    <tr>\n",
       "      <th>4</th>\n",
       "      <td>5</td>\n",
       "      <td>4.4024</td>\n",
       "      <td>113.9896</td>\n",
       "      <td>5</td>\n",
       "    </tr>\n",
       "  </tbody>\n",
       "</table>\n",
       "</div>"
      ],
      "text/plain": [
       "   customer  latitude  longitude  demand\n",
       "0         1    4.3555   113.9777       5\n",
       "1         2    4.3976   114.0049       8\n",
       "2         3    4.3163   114.0764       3\n",
       "3         4    4.3184   113.9932       6\n",
       "4         5    4.4024   113.9896       5"
      ]
     },
     "execution_count": 37,
     "metadata": {},
     "output_type": "execute_result"
    }
   ],
   "source": [
    "customers_df.head()"
   ]
  },
  {
   "cell_type": "code",
   "execution_count": 38,
   "metadata": {},
   "outputs": [
    {
     "data": {
      "text/html": [
       "<div>\n",
       "<style scoped>\n",
       "    .dataframe tbody tr th:only-of-type {\n",
       "        vertical-align: middle;\n",
       "    }\n",
       "\n",
       "    .dataframe tbody tr th {\n",
       "        vertical-align: top;\n",
       "    }\n",
       "\n",
       "    .dataframe thead th {\n",
       "        text-align: right;\n",
       "    }\n",
       "</style>\n",
       "<table border=\"1\" class=\"dataframe\">\n",
       "  <thead>\n",
       "    <tr style=\"text-align: right;\">\n",
       "      <th></th>\n",
       "      <th>vehicle</th>\n",
       "      <th>capacity</th>\n",
       "      <th>cost_per_km</th>\n",
       "    </tr>\n",
       "  </thead>\n",
       "  <tbody>\n",
       "    <tr>\n",
       "      <th>0</th>\n",
       "      <td>Type A</td>\n",
       "      <td>25</td>\n",
       "      <td>1.2</td>\n",
       "    </tr>\n",
       "    <tr>\n",
       "      <th>1</th>\n",
       "      <td>Type B</td>\n",
       "      <td>30</td>\n",
       "      <td>1.5</td>\n",
       "    </tr>\n",
       "  </tbody>\n",
       "</table>\n",
       "</div>"
      ],
      "text/plain": [
       "  vehicle  capacity  cost_per_km\n",
       "0  Type A        25          1.2\n",
       "1  Type B        30          1.5"
      ]
     },
     "execution_count": 38,
     "metadata": {},
     "output_type": "execute_result"
    }
   ],
   "source": [
    "vehicles_df.head()"
   ]
  },
  {
   "cell_type": "code",
   "execution_count": 39,
   "metadata": {},
   "outputs": [
    {
     "name": "stdout",
     "output_type": "stream",
     "text": [
      "Customers (converted):\n",
      "[{'customer': 1, 'latitude': 4.3555, 'longitude': 113.9777, 'demand': 5}, {'customer': 2, 'latitude': 4.3976, 'longitude': 114.0049, 'demand': 8}, {'customer': 3, 'latitude': 4.3163, 'longitude': 114.0764, 'demand': 3}, {'customer': 4, 'latitude': 4.3184, 'longitude': 113.9932, 'demand': 6}, {'customer': 5, 'latitude': 4.4024, 'longitude': 113.9896, 'demand': 5}, {'customer': 6, 'latitude': 4.4142, 'longitude': 114.0127, 'demand': 8}, {'customer': 7, 'latitude': 4.0804, 'longitude': 114.0734, 'demand': 3}, {'customer': 8, 'latitude': 4.3818, 'longitude': 114.2034, 'demand': 6}, {'customer': 9, 'latitude': 4.4935, 'longitude': 114.1828, 'demand': 5}, {'customer': 10, 'latitude': 4.4932, 'longitude': 114.1322, 'demand': 8}]\n",
      "\n",
      "Vehicles (converted):\n",
      "[{'vehicle': 'Type A', 'capacity': 25, 'cost_per_km': 1.2}, {'vehicle': 'Type B', 'capacity': 30, 'cost_per_km': 1.5}]\n"
     ]
    }
   ],
   "source": [
    "# Convert the DataFrames to lists of dictionaries\n",
    "customers = customers_df.to_dict('records')\n",
    "vehicles_data = vehicles_df.to_dict('records')\n",
    "\n",
    "# Print the converted data to verify\n",
    "print(\"Customers (converted):\")\n",
    "print(customers)\n",
    "\n",
    "print(\"\\nVehicles (converted):\")\n",
    "print(vehicles_data)\n"
   ]
  },
  {
   "cell_type": "code",
   "execution_count": 40,
   "metadata": {},
   "outputs": [
    {
     "name": "stdout",
     "output_type": "stream",
     "text": [
      "Distance between (4.4184, 114.0932) and (4.4201, 114.1) is 0.701 km\n"
     ]
    }
   ],
   "source": [
    "# Helper function to calculate the Euclidean distance between two points\n",
    "def calculate_distance(point1, point2):\n",
    "    \"\"\"\n",
    "    Calculate the Euclidean distance between two points.\n",
    "    \n",
    "    Args:\n",
    "    point1, point2: Tuples representing the coordinates (latitude, longitude) of the two points.\n",
    "    \n",
    "    Returns:\n",
    "    A float representing the distance between the two points.\n",
    "    \"\"\"\n",
    "    return 100 * np.sqrt((point2[1] - point1[1])**2 + (point2[0] - point1[0])**2)\n",
    "\n",
    "# Example usage\n",
    "point1 = (4.4184, 114.0932)\n",
    "point2 = (4.4201, 114.1000)\n",
    "distance = calculate_distance(point1, point2)\n",
    "print(f\"Distance between {point1} and {point2} is {distance:.3f} km\")\n"
   ]
  },
  {
   "cell_type": "code",
   "execution_count": 41,
   "metadata": {},
   "outputs": [
    {
     "name": "stdout",
     "output_type": "stream",
     "text": [
      "Initial Population:\n",
      "Solution 1: [{'Vehicle': 'Type A', 'route': [{'customer': 2, 'latitude': 4.3976, 'longitude': 114.0049, 'demand': 8}, {'customer': 3, 'latitude': 4.3163, 'longitude': 114.0764, 'demand': 3}, {'customer': 8, 'latitude': 4.3818, 'longitude': 114.2034, 'demand': 6}, {'customer': 1, 'latitude': 4.3555, 'longitude': 113.9777, 'demand': 5}]}, {'Vehicle': 'Type B', 'route': [{'customer': 5, 'latitude': 4.4024, 'longitude': 113.9896, 'demand': 5}, {'customer': 9, 'latitude': 4.4935, 'longitude': 114.1828, 'demand': 5}, {'customer': 4, 'latitude': 4.3184, 'longitude': 113.9932, 'demand': 6}, {'customer': 10, 'latitude': 4.4932, 'longitude': 114.1322, 'demand': 8}]}]\n",
      "Solution 2: [{'Vehicle': 'Type A', 'route': [{'customer': 8, 'latitude': 4.3818, 'longitude': 114.2034, 'demand': 6}, {'customer': 5, 'latitude': 4.4024, 'longitude': 113.9896, 'demand': 5}, {'customer': 6, 'latitude': 4.4142, 'longitude': 114.0127, 'demand': 8}, {'customer': 1, 'latitude': 4.3555, 'longitude': 113.9777, 'demand': 5}]}, {'Vehicle': 'Type B', 'route': [{'customer': 7, 'latitude': 4.0804, 'longitude': 114.0734, 'demand': 3}, {'customer': 3, 'latitude': 4.3163, 'longitude': 114.0764, 'demand': 3}, {'customer': 10, 'latitude': 4.4932, 'longitude': 114.1322, 'demand': 8}, {'customer': 2, 'latitude': 4.3976, 'longitude': 114.0049, 'demand': 8}, {'customer': 4, 'latitude': 4.3184, 'longitude': 113.9932, 'demand': 6}]}]\n",
      "Solution 3: [{'Vehicle': 'Type A', 'route': [{'customer': 5, 'latitude': 4.4024, 'longitude': 113.9896, 'demand': 5}, {'customer': 1, 'latitude': 4.3555, 'longitude': 113.9777, 'demand': 5}, {'customer': 4, 'latitude': 4.3184, 'longitude': 113.9932, 'demand': 6}, {'customer': 7, 'latitude': 4.0804, 'longitude': 114.0734, 'demand': 3}]}, {'Vehicle': 'Type B', 'route': [{'customer': 3, 'latitude': 4.3163, 'longitude': 114.0764, 'demand': 3}, {'customer': 2, 'latitude': 4.3976, 'longitude': 114.0049, 'demand': 8}, {'customer': 6, 'latitude': 4.4142, 'longitude': 114.0127, 'demand': 8}, {'customer': 9, 'latitude': 4.4935, 'longitude': 114.1828, 'demand': 5}, {'customer': 10, 'latitude': 4.4932, 'longitude': 114.1322, 'demand': 8}]}]\n",
      "Solution 4: [{'Vehicle': 'Type A', 'route': [{'customer': 4, 'latitude': 4.3184, 'longitude': 113.9932, 'demand': 6}, {'customer': 6, 'latitude': 4.4142, 'longitude': 114.0127, 'demand': 8}, {'customer': 10, 'latitude': 4.4932, 'longitude': 114.1322, 'demand': 8}]}, {'Vehicle': 'Type B', 'route': [{'customer': 9, 'latitude': 4.4935, 'longitude': 114.1828, 'demand': 5}, {'customer': 3, 'latitude': 4.3163, 'longitude': 114.0764, 'demand': 3}, {'customer': 5, 'latitude': 4.4024, 'longitude': 113.9896, 'demand': 5}, {'customer': 8, 'latitude': 4.3818, 'longitude': 114.2034, 'demand': 6}, {'customer': 7, 'latitude': 4.0804, 'longitude': 114.0734, 'demand': 3}, {'customer': 2, 'latitude': 4.3976, 'longitude': 114.0049, 'demand': 8}]}]\n",
      "Solution 5: [{'Vehicle': 'Type A', 'route': [{'customer': 5, 'latitude': 4.4024, 'longitude': 113.9896, 'demand': 5}, {'customer': 3, 'latitude': 4.3163, 'longitude': 114.0764, 'demand': 3}, {'customer': 4, 'latitude': 4.3184, 'longitude': 113.9932, 'demand': 6}, {'customer': 1, 'latitude': 4.3555, 'longitude': 113.9777, 'demand': 5}]}, {'Vehicle': 'Type B', 'route': [{'customer': 10, 'latitude': 4.4932, 'longitude': 114.1322, 'demand': 8}, {'customer': 7, 'latitude': 4.0804, 'longitude': 114.0734, 'demand': 3}, {'customer': 8, 'latitude': 4.3818, 'longitude': 114.2034, 'demand': 6}, {'customer': 6, 'latitude': 4.4142, 'longitude': 114.0127, 'demand': 8}]}]\n",
      "Solution 6: [{'Vehicle': 'Type A', 'route': [{'customer': 2, 'latitude': 4.3976, 'longitude': 114.0049, 'demand': 8}, {'customer': 1, 'latitude': 4.3555, 'longitude': 113.9777, 'demand': 5}, {'customer': 10, 'latitude': 4.4932, 'longitude': 114.1322, 'demand': 8}, {'customer': 7, 'latitude': 4.0804, 'longitude': 114.0734, 'demand': 3}]}, {'Vehicle': 'Type B', 'route': [{'customer': 6, 'latitude': 4.4142, 'longitude': 114.0127, 'demand': 8}, {'customer': 9, 'latitude': 4.4935, 'longitude': 114.1828, 'demand': 5}, {'customer': 8, 'latitude': 4.3818, 'longitude': 114.2034, 'demand': 6}, {'customer': 3, 'latitude': 4.3163, 'longitude': 114.0764, 'demand': 3}, {'customer': 4, 'latitude': 4.3184, 'longitude': 113.9932, 'demand': 6}]}]\n",
      "Solution 7: [{'Vehicle': 'Type A', 'route': [{'customer': 4, 'latitude': 4.3184, 'longitude': 113.9932, 'demand': 6}, {'customer': 8, 'latitude': 4.3818, 'longitude': 114.2034, 'demand': 6}, {'customer': 9, 'latitude': 4.4935, 'longitude': 114.1828, 'demand': 5}, {'customer': 7, 'latitude': 4.0804, 'longitude': 114.0734, 'demand': 3}, {'customer': 6, 'latitude': 4.4142, 'longitude': 114.0127, 'demand': 8}]}, {'Vehicle': 'Type B', 'route': [{'customer': 1, 'latitude': 4.3555, 'longitude': 113.9777, 'demand': 5}, {'customer': 2, 'latitude': 4.3976, 'longitude': 114.0049, 'demand': 8}, {'customer': 3, 'latitude': 4.3163, 'longitude': 114.0764, 'demand': 3}, {'customer': 5, 'latitude': 4.4024, 'longitude': 113.9896, 'demand': 5}, {'customer': 10, 'latitude': 4.4932, 'longitude': 114.1322, 'demand': 8}]}]\n",
      "Solution 8: [{'Vehicle': 'Type A', 'route': [{'customer': 4, 'latitude': 4.3184, 'longitude': 113.9932, 'demand': 6}, {'customer': 2, 'latitude': 4.3976, 'longitude': 114.0049, 'demand': 8}, {'customer': 6, 'latitude': 4.4142, 'longitude': 114.0127, 'demand': 8}]}, {'Vehicle': 'Type B', 'route': [{'customer': 1, 'latitude': 4.3555, 'longitude': 113.9777, 'demand': 5}, {'customer': 10, 'latitude': 4.4932, 'longitude': 114.1322, 'demand': 8}, {'customer': 8, 'latitude': 4.3818, 'longitude': 114.2034, 'demand': 6}, {'customer': 5, 'latitude': 4.4024, 'longitude': 113.9896, 'demand': 5}, {'customer': 3, 'latitude': 4.3163, 'longitude': 114.0764, 'demand': 3}, {'customer': 9, 'latitude': 4.4935, 'longitude': 114.1828, 'demand': 5}]}]\n",
      "Solution 9: [{'Vehicle': 'Type A', 'route': [{'customer': 7, 'latitude': 4.0804, 'longitude': 114.0734, 'demand': 3}, {'customer': 3, 'latitude': 4.3163, 'longitude': 114.0764, 'demand': 3}, {'customer': 4, 'latitude': 4.3184, 'longitude': 113.9932, 'demand': 6}, {'customer': 1, 'latitude': 4.3555, 'longitude': 113.9777, 'demand': 5}, {'customer': 2, 'latitude': 4.3976, 'longitude': 114.0049, 'demand': 8}]}, {'Vehicle': 'Type B', 'route': [{'customer': 10, 'latitude': 4.4932, 'longitude': 114.1322, 'demand': 8}, {'customer': 6, 'latitude': 4.4142, 'longitude': 114.0127, 'demand': 8}, {'customer': 8, 'latitude': 4.3818, 'longitude': 114.2034, 'demand': 6}, {'customer': 5, 'latitude': 4.4024, 'longitude': 113.9896, 'demand': 5}]}]\n",
      "Solution 10: [{'Vehicle': 'Type A', 'route': [{'customer': 6, 'latitude': 4.4142, 'longitude': 114.0127, 'demand': 8}, {'customer': 10, 'latitude': 4.4932, 'longitude': 114.1322, 'demand': 8}, {'customer': 9, 'latitude': 4.4935, 'longitude': 114.1828, 'demand': 5}]}, {'Vehicle': 'Type B', 'route': [{'customer': 5, 'latitude': 4.4024, 'longitude': 113.9896, 'demand': 5}, {'customer': 2, 'latitude': 4.3976, 'longitude': 114.0049, 'demand': 8}, {'customer': 3, 'latitude': 4.3163, 'longitude': 114.0764, 'demand': 3}, {'customer': 7, 'latitude': 4.0804, 'longitude': 114.0734, 'demand': 3}, {'customer': 1, 'latitude': 4.3555, 'longitude': 113.9777, 'demand': 5}, {'customer': 4, 'latitude': 4.3184, 'longitude': 113.9932, 'demand': 6}]}]\n"
     ]
    }
   ],
   "source": [
    "def generate_initial_population(pop_size, customers, vehicles_data):\n",
    "    \"\"\"\n",
    "    Generate an initial population of solutions for the VRP.\n",
    "    \n",
    "    Args:\n",
    "    pop_size: The number of solutions in the population.\n",
    "    customers: A list of dictionaries containing customer data.\n",
    "    vehicles_data: A list of dictionaries containing vehicle data.\n",
    "    \n",
    "    Returns:\n",
    "    A list of solutions, where each solution is a list of routes for the vehicles.\n",
    "    \"\"\"\n",
    "    population = []\n",
    "    for _ in range(pop_size):\n",
    "        solution = []\n",
    "        remaining_customers = customers.copy()\n",
    "        for vehicle in vehicles_data:\n",
    "            route = []\n",
    "            route_demand = 0\n",
    "            while remaining_customers and (route_demand + remaining_customers[0]['demand']) <= vehicle['capacity']:\n",
    "                customer = remaining_customers.pop(random.randint(0, len(remaining_customers) - 1))\n",
    "                route.append(customer)\n",
    "                route_demand += customer['demand']\n",
    "            solution.append({'Vehicle': vehicle['vehicle'], 'route': route})  # Use 'vehicle' instead of 'type'\n",
    "        population.append(solution)\n",
    "    return population\n",
    "\n",
    "# Example usage\n",
    "population_size = 10\n",
    "initial_population = generate_initial_population(population_size, customers, vehicles_data)\n",
    "print(\"Initial Population:\")\n",
    "for i, solution in enumerate(initial_population):\n",
    "    print(f\"Solution {i+1}: {solution}\")"
   ]
  },
  {
   "cell_type": "code",
   "execution_count": 42,
   "metadata": {},
   "outputs": [
    {
     "name": "stdout",
     "output_type": "stream",
     "text": [
      "Fitness of the example solution: 216.70509954886586\n"
     ]
    }
   ],
   "source": [
    "def evaluate(solution):\n",
    "    \"\"\"\n",
    "    Evaluate the fitness of a solution.\n",
    "    \n",
    "    Args:\n",
    "    solution: A solution representing a set of routes for the vehicles.\n",
    "    \n",
    "    Returns:\n",
    "    A float representing the total cost of the solution. If the solution is infeasible, returns a high penalty value.\n",
    "    \"\"\"\n",
    "    total_distance = 0\n",
    "    total_cost = 0\n",
    "    \n",
    "    for vehicle in solution:\n",
    "        vehicle_type = vehicle['Vehicle']\n",
    "        vehicle_capacity = vehicles_df.loc[vehicles_df['vehicle'] == vehicle_type, 'capacity'].values[0]\n",
    "        cost_per_km = vehicles_df.loc[vehicles_df['vehicle'] == vehicle_type, 'cost_per_km'].values[0]\n",
    "        \n",
    "        route = vehicle['route']\n",
    "        route_demand = sum(customer['demand'] for customer in route)\n",
    "        \n",
    "        if route_demand > vehicle_capacity:\n",
    "            return float('inf')  # Penalize infeasible solutions\n",
    "        \n",
    "        route_distance = 0\n",
    "        last_location = depot\n",
    "        for customer in route:\n",
    "            customer_location = (customer['latitude'], customer['longitude'])\n",
    "            route_distance += calculate_distance(last_location, customer_location)\n",
    "            last_location = customer_location\n",
    "        route_distance += calculate_distance(last_location, depot)  # Return to depot\n",
    "        total_distance += route_distance\n",
    "        total_cost += route_distance * cost_per_km\n",
    "    \n",
    "    return total_cost\n",
    "\n",
    "# Example usage\n",
    "example_solution = initial_population[0]\n",
    "fitness = evaluate(example_solution)\n",
    "print(f\"Fitness of the example solution: {fitness}\")"
   ]
  },
  {
   "cell_type": "code",
   "execution_count": 43,
   "metadata": {},
   "outputs": [
    {
     "name": "stdout",
     "output_type": "stream",
     "text": [
      "Selected Population:\n",
      "Selected Solution 1: [{'Vehicle': 'Type A', 'route': [{'customer': 7, 'latitude': 4.0804, 'longitude': 114.0734, 'demand': 3}, {'customer': 3, 'latitude': 4.3163, 'longitude': 114.0764, 'demand': 3}, {'customer': 4, 'latitude': 4.3184, 'longitude': 113.9932, 'demand': 6}, {'customer': 1, 'latitude': 4.3555, 'longitude': 113.9777, 'demand': 5}, {'customer': 2, 'latitude': 4.3976, 'longitude': 114.0049, 'demand': 8}]}, {'Vehicle': 'Type B', 'route': [{'customer': 10, 'latitude': 4.4932, 'longitude': 114.1322, 'demand': 8}, {'customer': 6, 'latitude': 4.4142, 'longitude': 114.0127, 'demand': 8}, {'customer': 8, 'latitude': 4.3818, 'longitude': 114.2034, 'demand': 6}, {'customer': 5, 'latitude': 4.4024, 'longitude': 113.9896, 'demand': 5}]}]\n",
      "Selected Solution 2: [{'Vehicle': 'Type A', 'route': [{'customer': 2, 'latitude': 4.3976, 'longitude': 114.0049, 'demand': 8}, {'customer': 3, 'latitude': 4.3163, 'longitude': 114.0764, 'demand': 3}, {'customer': 8, 'latitude': 4.3818, 'longitude': 114.2034, 'demand': 6}, {'customer': 1, 'latitude': 4.3555, 'longitude': 113.9777, 'demand': 5}]}, {'Vehicle': 'Type B', 'route': [{'customer': 5, 'latitude': 4.4024, 'longitude': 113.9896, 'demand': 5}, {'customer': 9, 'latitude': 4.4935, 'longitude': 114.1828, 'demand': 5}, {'customer': 4, 'latitude': 4.3184, 'longitude': 113.9932, 'demand': 6}, {'customer': 10, 'latitude': 4.4932, 'longitude': 114.1322, 'demand': 8}]}]\n",
      "Selected Solution 3: [{'Vehicle': 'Type A', 'route': [{'customer': 6, 'latitude': 4.4142, 'longitude': 114.0127, 'demand': 8}, {'customer': 10, 'latitude': 4.4932, 'longitude': 114.1322, 'demand': 8}, {'customer': 9, 'latitude': 4.4935, 'longitude': 114.1828, 'demand': 5}]}, {'Vehicle': 'Type B', 'route': [{'customer': 5, 'latitude': 4.4024, 'longitude': 113.9896, 'demand': 5}, {'customer': 2, 'latitude': 4.3976, 'longitude': 114.0049, 'demand': 8}, {'customer': 3, 'latitude': 4.3163, 'longitude': 114.0764, 'demand': 3}, {'customer': 7, 'latitude': 4.0804, 'longitude': 114.0734, 'demand': 3}, {'customer': 1, 'latitude': 4.3555, 'longitude': 113.9777, 'demand': 5}, {'customer': 4, 'latitude': 4.3184, 'longitude': 113.9932, 'demand': 6}]}]\n",
      "Selected Solution 4: [{'Vehicle': 'Type A', 'route': [{'customer': 2, 'latitude': 4.3976, 'longitude': 114.0049, 'demand': 8}, {'customer': 3, 'latitude': 4.3163, 'longitude': 114.0764, 'demand': 3}, {'customer': 8, 'latitude': 4.3818, 'longitude': 114.2034, 'demand': 6}, {'customer': 1, 'latitude': 4.3555, 'longitude': 113.9777, 'demand': 5}]}, {'Vehicle': 'Type B', 'route': [{'customer': 5, 'latitude': 4.4024, 'longitude': 113.9896, 'demand': 5}, {'customer': 9, 'latitude': 4.4935, 'longitude': 114.1828, 'demand': 5}, {'customer': 4, 'latitude': 4.3184, 'longitude': 113.9932, 'demand': 6}, {'customer': 10, 'latitude': 4.4932, 'longitude': 114.1322, 'demand': 8}]}]\n",
      "Selected Solution 5: [{'Vehicle': 'Type A', 'route': [{'customer': 6, 'latitude': 4.4142, 'longitude': 114.0127, 'demand': 8}, {'customer': 10, 'latitude': 4.4932, 'longitude': 114.1322, 'demand': 8}, {'customer': 9, 'latitude': 4.4935, 'longitude': 114.1828, 'demand': 5}]}, {'Vehicle': 'Type B', 'route': [{'customer': 5, 'latitude': 4.4024, 'longitude': 113.9896, 'demand': 5}, {'customer': 2, 'latitude': 4.3976, 'longitude': 114.0049, 'demand': 8}, {'customer': 3, 'latitude': 4.3163, 'longitude': 114.0764, 'demand': 3}, {'customer': 7, 'latitude': 4.0804, 'longitude': 114.0734, 'demand': 3}, {'customer': 1, 'latitude': 4.3555, 'longitude': 113.9777, 'demand': 5}, {'customer': 4, 'latitude': 4.3184, 'longitude': 113.9932, 'demand': 6}]}]\n",
      "Selected Solution 6: [{'Vehicle': 'Type A', 'route': [{'customer': 6, 'latitude': 4.4142, 'longitude': 114.0127, 'demand': 8}, {'customer': 10, 'latitude': 4.4932, 'longitude': 114.1322, 'demand': 8}, {'customer': 9, 'latitude': 4.4935, 'longitude': 114.1828, 'demand': 5}]}, {'Vehicle': 'Type B', 'route': [{'customer': 5, 'latitude': 4.4024, 'longitude': 113.9896, 'demand': 5}, {'customer': 2, 'latitude': 4.3976, 'longitude': 114.0049, 'demand': 8}, {'customer': 3, 'latitude': 4.3163, 'longitude': 114.0764, 'demand': 3}, {'customer': 7, 'latitude': 4.0804, 'longitude': 114.0734, 'demand': 3}, {'customer': 1, 'latitude': 4.3555, 'longitude': 113.9777, 'demand': 5}, {'customer': 4, 'latitude': 4.3184, 'longitude': 113.9932, 'demand': 6}]}]\n",
      "Selected Solution 7: [{'Vehicle': 'Type A', 'route': [{'customer': 6, 'latitude': 4.4142, 'longitude': 114.0127, 'demand': 8}, {'customer': 10, 'latitude': 4.4932, 'longitude': 114.1322, 'demand': 8}, {'customer': 9, 'latitude': 4.4935, 'longitude': 114.1828, 'demand': 5}]}, {'Vehicle': 'Type B', 'route': [{'customer': 5, 'latitude': 4.4024, 'longitude': 113.9896, 'demand': 5}, {'customer': 2, 'latitude': 4.3976, 'longitude': 114.0049, 'demand': 8}, {'customer': 3, 'latitude': 4.3163, 'longitude': 114.0764, 'demand': 3}, {'customer': 7, 'latitude': 4.0804, 'longitude': 114.0734, 'demand': 3}, {'customer': 1, 'latitude': 4.3555, 'longitude': 113.9777, 'demand': 5}, {'customer': 4, 'latitude': 4.3184, 'longitude': 113.9932, 'demand': 6}]}]\n",
      "Selected Solution 8: [{'Vehicle': 'Type A', 'route': [{'customer': 5, 'latitude': 4.4024, 'longitude': 113.9896, 'demand': 5}, {'customer': 3, 'latitude': 4.3163, 'longitude': 114.0764, 'demand': 3}, {'customer': 4, 'latitude': 4.3184, 'longitude': 113.9932, 'demand': 6}, {'customer': 1, 'latitude': 4.3555, 'longitude': 113.9777, 'demand': 5}]}, {'Vehicle': 'Type B', 'route': [{'customer': 10, 'latitude': 4.4932, 'longitude': 114.1322, 'demand': 8}, {'customer': 7, 'latitude': 4.0804, 'longitude': 114.0734, 'demand': 3}, {'customer': 8, 'latitude': 4.3818, 'longitude': 114.2034, 'demand': 6}, {'customer': 6, 'latitude': 4.4142, 'longitude': 114.0127, 'demand': 8}]}]\n",
      "Selected Solution 9: [{'Vehicle': 'Type A', 'route': [{'customer': 2, 'latitude': 4.3976, 'longitude': 114.0049, 'demand': 8}, {'customer': 1, 'latitude': 4.3555, 'longitude': 113.9777, 'demand': 5}, {'customer': 10, 'latitude': 4.4932, 'longitude': 114.1322, 'demand': 8}, {'customer': 7, 'latitude': 4.0804, 'longitude': 114.0734, 'demand': 3}]}, {'Vehicle': 'Type B', 'route': [{'customer': 6, 'latitude': 4.4142, 'longitude': 114.0127, 'demand': 8}, {'customer': 9, 'latitude': 4.4935, 'longitude': 114.1828, 'demand': 5}, {'customer': 8, 'latitude': 4.3818, 'longitude': 114.2034, 'demand': 6}, {'customer': 3, 'latitude': 4.3163, 'longitude': 114.0764, 'demand': 3}, {'customer': 4, 'latitude': 4.3184, 'longitude': 113.9932, 'demand': 6}]}]\n",
      "Selected Solution 10: [{'Vehicle': 'Type A', 'route': [{'customer': 2, 'latitude': 4.3976, 'longitude': 114.0049, 'demand': 8}, {'customer': 3, 'latitude': 4.3163, 'longitude': 114.0764, 'demand': 3}, {'customer': 8, 'latitude': 4.3818, 'longitude': 114.2034, 'demand': 6}, {'customer': 1, 'latitude': 4.3555, 'longitude': 113.9777, 'demand': 5}]}, {'Vehicle': 'Type B', 'route': [{'customer': 5, 'latitude': 4.4024, 'longitude': 113.9896, 'demand': 5}, {'customer': 9, 'latitude': 4.4935, 'longitude': 114.1828, 'demand': 5}, {'customer': 4, 'latitude': 4.3184, 'longitude': 113.9932, 'demand': 6}, {'customer': 10, 'latitude': 4.4932, 'longitude': 114.1322, 'demand': 8}]}]\n"
     ]
    }
   ],
   "source": [
    "def selection(population, fitnesses):\n",
    "    \"\"\"\n",
    "    Select solutions from the population to act as parents for the next generation.\n",
    "    \n",
    "    Args:\n",
    "    population: The current population of solutions.\n",
    "    fitnesses: A list of fitness values corresponding to each solution in the population.\n",
    "    \n",
    "    Returns:\n",
    "    A list of selected solutions (parents).\n",
    "    \"\"\"\n",
    "    total_fitness = sum(1 / f for f in fitnesses)  # Inverse fitness for minimization problem\n",
    "    selection_probs = [(1 / f) / total_fitness for f in fitnesses]\n",
    "    \n",
    "    selected = random.choices(population, weights=selection_probs, k=len(population))\n",
    "    return selected\n",
    "\n",
    "# Example usage\n",
    "fitnesses = [evaluate(solution) for solution in initial_population]\n",
    "selected_population = selection(initial_population, fitnesses)\n",
    "print(\"Selected Population:\")\n",
    "for i, solution in enumerate(selected_population):\n",
    "    print(f\"Selected Solution {i+1}: {solution}\")"
   ]
  },
  {
   "cell_type": "code",
   "execution_count": 44,
   "metadata": {},
   "outputs": [
    {
     "name": "stdout",
     "output_type": "stream",
     "text": [
      "Child 1: [{'Vehicle': 'Type A', 'route': [{'customer': 5, 'latitude': 4.4024, 'longitude': 113.9896, 'demand': 5}, {'customer': 6, 'latitude': 4.4142, 'longitude': 114.0127, 'demand': 8}, {'customer': 8, 'latitude': 4.3818, 'longitude': 114.2034, 'demand': 6}, {'customer': 1, 'latitude': 4.3555, 'longitude': 113.9777, 'demand': 5}]}, {'Vehicle': 'Type B', 'route': [{'customer': 7, 'latitude': 4.0804, 'longitude': 114.0734, 'demand': 3}, {'customer': 3, 'latitude': 4.3163, 'longitude': 114.0764, 'demand': 3}, {'customer': 10, 'latitude': 4.4932, 'longitude': 114.1322, 'demand': 8}, {'customer': 2, 'latitude': 4.3976, 'longitude': 114.0049, 'demand': 8}]}]\n",
      "Child 2: [{'Vehicle': 'Type A', 'route': [{'customer': 8, 'latitude': 4.3818, 'longitude': 114.2034, 'demand': 6}, {'customer': 1, 'latitude': 4.3555, 'longitude': 113.9777, 'demand': 5}, {'customer': 5, 'latitude': 4.4024, 'longitude': 113.9896, 'demand': 5}, {'customer': 9, 'latitude': 4.4935, 'longitude': 114.1828, 'demand': 5}, {'customer': 7, 'latitude': 4.0804, 'longitude': 114.0734, 'demand': 3}]}, {'Vehicle': 'Type B', 'route': [{'customer': 3, 'latitude': 4.3163, 'longitude': 114.0764, 'demand': 3}, {'customer': 10, 'latitude': 4.4932, 'longitude': 114.1322, 'demand': 8}, {'customer': 2, 'latitude': 4.3976, 'longitude': 114.0049, 'demand': 8}, {'customer': 4, 'latitude': 4.3184, 'longitude': 113.9932, 'demand': 6}]}]\n"
     ]
    }
   ],
   "source": [
    "def crossover(parent1, parent2):\n",
    "    \"\"\"\n",
    "    Perform crossover between two parent solutions to produce two offspring solutions.\n",
    "    \n",
    "    Args:\n",
    "    parent1: The first parent solution.\n",
    "    parent2: The second parent solution.\n",
    "    \n",
    "    Returns:\n",
    "    Two offspring solutions generated by combining parts of the parents.\n",
    "    \"\"\"\n",
    "    def get_vehicle_routes(solution):\n",
    "        routes = []\n",
    "        for vehicle in solution:\n",
    "            routes.extend(vehicle['route'])\n",
    "        return routes\n",
    "\n",
    "    def create_offspring(parent1, parent2):\n",
    "        route1 = get_vehicle_routes(parent1)\n",
    "        route2 = get_vehicle_routes(parent2)\n",
    "        \n",
    "        size = len(route1)\n",
    "        start, end = sorted(random.sample(range(size), 2))\n",
    "        \n",
    "        child_route = [None] * size\n",
    "        child_route[start:end] = route1[start:end]\n",
    "        \n",
    "        pointer = 0\n",
    "        for customer in route2:\n",
    "            if customer not in child_route:\n",
    "                while pointer < size and child_route[pointer] is not None:\n",
    "                    pointer += 1\n",
    "                if pointer < size:\n",
    "                    child_route[pointer] = customer\n",
    "        \n",
    "        return child_route\n",
    "\n",
    "    def distribute_customers(route, vehicles_data):\n",
    "        solution = []\n",
    "        remaining_customers = [c for c in route if c is not None]\n",
    "        for vehicle in vehicles_data:\n",
    "            route_segment = []\n",
    "            route_demand = 0\n",
    "            while remaining_customers and (route_demand + remaining_customers[0]['demand']) <= vehicle['capacity']:\n",
    "                customer = remaining_customers.pop(0)\n",
    "                route_segment.append(customer)\n",
    "                route_demand += customer['demand']\n",
    "            solution.append({'Vehicle': vehicle['vehicle'], 'route': route_segment})\n",
    "        return solution\n",
    "    \n",
    "    child1_route = create_offspring(parent1, parent2)\n",
    "    child2_route = create_offspring(parent2, parent1)\n",
    "    \n",
    "    child1 = distribute_customers(child1_route, vehicles_data)\n",
    "    child2 = distribute_customers(child2_route, vehicles_data)\n",
    "    \n",
    "    return child1, child2\n",
    "\n",
    "# Example usage\n",
    "parent1 = initial_population[0]\n",
    "parent2 = initial_population[1]\n",
    "child1, child2 = crossover(parent1, parent2)\n",
    "print(\"Child 1:\", child1)\n",
    "print(\"Child 2:\", child2)\n"
   ]
  },
  {
   "cell_type": "code",
   "execution_count": 45,
   "metadata": {},
   "outputs": [
    {
     "name": "stdout",
     "output_type": "stream",
     "text": [
      "Mutated Solution: [{'Vehicle': 'Type A', 'route': [{'customer': 5, 'latitude': 4.4024, 'longitude': 113.9896, 'demand': 5}, {'customer': 6, 'latitude': 4.4142, 'longitude': 114.0127, 'demand': 8}, {'customer': 8, 'latitude': 4.3818, 'longitude': 114.2034, 'demand': 6}, {'customer': 1, 'latitude': 4.3555, 'longitude': 113.9777, 'demand': 5}]}, {'Vehicle': 'Type B', 'route': [{'customer': 7, 'latitude': 4.0804, 'longitude': 114.0734, 'demand': 3}, {'customer': 3, 'latitude': 4.3163, 'longitude': 114.0764, 'demand': 3}, {'customer': 10, 'latitude': 4.4932, 'longitude': 114.1322, 'demand': 8}, {'customer': 2, 'latitude': 4.3976, 'longitude': 114.0049, 'demand': 8}]}]\n"
     ]
    }
   ],
   "source": [
    "def mutate(solution, mutation_rate=0.1):\n",
    "    \"\"\"\n",
    "    Mutate a solution by introducing random changes.\n",
    "    \n",
    "    Args:\n",
    "    solution: A solution representing a set of routes for the vehicles.\n",
    "    mutation_rate: The probability of mutation for each customer in a route.\n",
    "    \n",
    "    Returns:\n",
    "    A mutated solution.\n",
    "    \"\"\"\n",
    "    for vehicle in solution:\n",
    "        route = vehicle['route']\n",
    "        if random.random() < mutation_rate:\n",
    "            # Ensure there are at least two customers to swap\n",
    "            if len(route) > 1:\n",
    "                i, j = random.sample(range(len(route)), 2)\n",
    "                route[i], route[j] = route[j], route[i]\n",
    "    \n",
    "    return solution\n",
    "\n",
    "# Example usage\n",
    "mutated_solution = mutate(child1)\n",
    "print(\"Mutated Solution:\", mutated_solution)"
   ]
  },
  {
   "cell_type": "code",
   "execution_count": 46,
   "metadata": {},
   "outputs": [
    {
     "name": "stdout",
     "output_type": "stream",
     "text": [
      "Best Solution: [{'Vehicle': 'Type A', 'route': [{'customer': 1, 'latitude': 4.3555, 'longitude': 113.9777, 'demand': 5}, {'customer': 4, 'latitude': 4.3184, 'longitude': 113.9932, 'demand': 6}, {'customer': 2, 'latitude': 4.3976, 'longitude': 114.0049, 'demand': 8}]}, {'Vehicle': 'Type B', 'route': [{'customer': 10, 'latitude': 4.4932, 'longitude': 114.1322, 'demand': 8}, {'customer': 9, 'latitude': 4.4935, 'longitude': 114.1828, 'demand': 5}, {'customer': 8, 'latitude': 4.3818, 'longitude': 114.2034, 'demand': 6}, {'customer': 3, 'latitude': 4.3163, 'longitude': 114.0764, 'demand': 3}]}]\n",
      "Best Fitness: 115.33660310363717\n"
     ]
    }
   ],
   "source": [
    "def genetic_algorithm(customers, vehicles_data, depot, pop_size=100, generations=500, mutation_rate=0.1):\n",
    "    \"\"\"\n",
    "    Run the Genetic Algorithm to solve the VRP.\n",
    "    \n",
    "    Args:\n",
    "    customers: A list of dictionaries containing customer data.\n",
    "    vehicles_data: A list of dictionaries containing vehicle data.\n",
    "    depot: Tuple representing the coordinates of the depot.\n",
    "    pop_size: The number of solutions in the population.\n",
    "    generations: The number of generations to run the algorithm.\n",
    "    mutation_rate: The probability of mutation for each customer in a route.\n",
    "    \n",
    "    Returns:\n",
    "    The best solution found and its fitness value.\n",
    "    \"\"\"\n",
    "    # Generate initial population\n",
    "    population = generate_initial_population(pop_size, customers, vehicles_data)\n",
    "    \n",
    "    for generation in range(generations):\n",
    "        # Evaluate fitness of each solution\n",
    "        fitnesses = [evaluate(solution) for solution in population]\n",
    "        \n",
    "        # Selection\n",
    "        selected_population = selection(population, fitnesses)\n",
    "        \n",
    "        # Crossover and Mutation\n",
    "        new_population = []\n",
    "        for i in range(0, len(selected_population), 2):\n",
    "            parent1 = selected_population[i]\n",
    "            parent2 = selected_population[i+1] if i+1 < len(selected_population) else selected_population[0]\n",
    "            child1, child2 = crossover(parent1, parent2)\n",
    "            new_population.append(mutate(child1, mutation_rate))\n",
    "            new_population.append(mutate(child2, mutation_rate))\n",
    "        \n",
    "        # Replace old population with new population\n",
    "        population = new_population\n",
    "    \n",
    "    # Find the best solution in the final population\n",
    "    best_solution = min(population, key=evaluate)\n",
    "    best_fitness = evaluate(best_solution)\n",
    "    return best_solution, best_fitness\n",
    "\n",
    "# Run the Genetic Algorithm\n",
    "best_solution, best_fitness = genetic_algorithm(customers, vehicles_data, depot)\n",
    "print(\"Best Solution:\", best_solution)\n",
    "print(\"Best Fitness:\", best_fitness)"
   ]
  }
 ],
 "metadata": {
  "kernelspec": {
   "display_name": "Python 3",
   "language": "python",
   "name": "python3"
  },
  "language_info": {
   "codemirror_mode": {
    "name": "ipython",
    "version": 3
   },
   "file_extension": ".py",
   "mimetype": "text/x-python",
   "name": "python",
   "nbconvert_exporter": "python",
   "pygments_lexer": "ipython3",
   "version": "3.9.19"
  }
 },
 "nbformat": 4,
 "nbformat_minor": 2
}
